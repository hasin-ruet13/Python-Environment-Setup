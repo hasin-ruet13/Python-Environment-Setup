{
 "cells": [
  {
   "cell_type": "markdown",
   "id": "1ac46b47-4080-4044-9e05-6cd89184e142",
   "metadata": {},
   "source": [
    "### 1. Install Miniconda on the Server"
   ]
  },
  {
   "cell_type": "code",
   "execution_count": null,
   "id": "3fcc4f43-46bb-44c4-9169-02c8ad03e165",
   "metadata": {},
   "outputs": [],
   "source": [
    "#Download the latest Miniconda installer for Linux (since most HPC systems are Linux-based)\n",
    "wget https://repo.anaconda.com/miniconda/Miniconda3-latest-Linux-x86_64.sh\n",
    "\n",
    "#Run the installer:\n",
    "bash Miniconda3-latest-Linux-x86_64.sh\n",
    "\n",
    "#Follow the prompts, and when asked, choose to initialize Miniconda.\n",
    "\n",
    "#Reload the environment (to ensure conda is available):\n",
    "/home/hasin.rehana@ad.und.edu/miniconda3/bin/conda init\nsource ~/.bashrc"
   ]
  },
  {
   "cell_type": "markdown",
   "id": "0e2dac4d-dba5-4a80-b0bf-288de177b8a2",
   "metadata": {},
   "source": [
    "### 2. Create a Conda Environment with Python 3.9"
   ]
  },
  {
   "cell_type": "code",
   "execution_count": null,
   "id": "976ff354-75c3-4766-ada1-80179c0706dc",
   "metadata": {},
   "outputs": [],
   "source": [
    "#Create environment\n",
    "conda create -n PREPARE_ENV python=3.9 -y\n",
    "#Activate Environment\n",
    "conda activate PREPARE_ENV"
   ]
  },
  {
   "cell_type": "markdown",
   "id": "5f4e03f0-ed81-47ef-865e-babf6cd0f385",
   "metadata": {},
   "source": [
    "### 3. Install Dependencies from requirements.txt"
   ]
  },
  {
   "cell_type": "code",
   "execution_count": null,
   "id": "b23db4ad-2f26-4a4c-87cc-1aa84793298d",
   "metadata": {},
   "outputs": [],
   "source": [
    "#Ensure your requirements.txt is uploaded to the server. Then run\n",
    "pip install -r requirements.txt"
   ]
  },
  {
   "cell_type": "code",
   "execution_count": null,
   "id": "170fa777-6a17-4952-90b9-ff3c95361732",
   "metadata": {},
   "outputs": [],
   "source": [
    "# Sample requirements.txt\n",
    "# Core dependencies\n",
    "numpy==1.23.5\n",
    "pandas==1.5.3\n",
    "matplotlib==3.6.2\n",
    "seaborn==0.12.1\n",
    "\n",
    "# Scikit-learn for machine learning\n",
    "scikit-learn==1.1.3\n",
    "\n",
    "# Advanced modeling libraries\n",
    "catboost==1.1.1\n",
    "lightgbm==3.3.5\n",
    "\n",
    "# Plotting and visualization\n",
    "plotly==5.11.0\n",
    "\n",
    "# Optuna for hyperparameter optimization\n",
    "optuna==3.2.0\n",
    "\n",
    "# Utility libraries\n",
    "os-sys==1.0.1  # for os and system utilities\n",
    "scipy==1.9.3\n",
    "\n",
    "# For encoding and data transformations\n",
    "category-encoders==2.5.1.post0\n",
    "\n",
    "# Dummy regressors and metrics\n",
    "joblib==1.2.0"
   ]
  },
  {
   "cell_type": "markdown",
   "id": "727ba2b0-0bab-40e2-81b2-66a7da274ab6",
   "metadata": {},
   "source": [
    "### 4. Install JupyterLab and IPython Kernel"
   ]
  },
  {
   "cell_type": "code",
   "execution_count": null,
   "id": "64dc401b-aaa1-498c-8e73-d90f48911a3c",
   "metadata": {},
   "outputs": [],
   "source": [
    "#Install JupyterLab and the kernel package in the environment\n",
    "pip install jupyterlab ipykernel\n",
    "#Add the environment to the Jupyter kernel list\n",
    "python -m ipykernel install --user --name=PREPARE_ENV --display-name \"Python 3.9 (PREPARE_ENV)\""
   ]
  }
 ],
 "metadata": {
  "kernelspec": {
   "display_name": "Python 3 (ipykernel)",
   "language": "python",
   "name": "python3"
  },
  "language_info": {
   "codemirror_mode": {
    "name": "ipython",
    "version": 3
   },
   "file_extension": ".py",
   "mimetype": "text/x-python",
   "name": "python",
   "nbconvert_exporter": "python",
   "pygments_lexer": "ipython3",
   "version": "3.9.20"
  }
 },
 "nbformat": 4,
 "nbformat_minor": 5
}
